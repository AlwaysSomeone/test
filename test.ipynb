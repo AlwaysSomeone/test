{
 "cells": [
  {
   "cell_type": "code",
   "execution_count": 1,
   "metadata": {
    "id": "A4FQJ0PNDAIl",
    "colab_type": "code",
    "colab": {
     "autoexec": {
      "startup": false,
      "wait_interval": 0.0
     },
     "output_extras": [
      {
       "item_id": 1.0
      }
     ],
     "base_uri": "https://localhost:8080/",
     "height": 35.0
    },
    "outputId": "eb865468-48fa-4f90-a95a-9fde7501c32c",
    "executionInfo": {
     "status": "ok",
     "timestamp": 1.522214399958E12,
     "user_tz": -480.0,
     "elapsed": 2283.0,
     "user": {
      "displayName": "吴小翔",
      "photoUrl": "https://lh3.googleusercontent.com/a/default-user=s128",
      "userId": "115671095488650849178"
     }
    }
   },
   "outputs": [
    {
     "name": "stdout",
     "output_type": "stream",
     "text": [
      "datalab\r\n"
     ]
    }
   ],
   "source": [
    "!ls"
   ]
  },
  {
   "cell_type": "code",
   "execution_count": 3,
   "metadata": {
    "id": "Xf7eukgfDIa1",
    "colab_type": "code",
    "colab": {
     "autoexec": {
      "startup": false,
      "wait_interval": 0.0
     },
     "output_extras": [
      {
       "item_id": 8.0
      }
     ],
     "base_uri": "https://localhost:8080/",
     "height": 143.0
    },
    "outputId": "4081ff7c-bcb6-4e7a-8122-8e7b4e71e582",
    "executionInfo": {
     "status": "ok",
     "timestamp": 1.522214483312E12,
     "user_tz": -480.0,
     "elapsed": 8678.0,
     "user": {
      "displayName": "吴小翔",
      "photoUrl": "https://lh3.googleusercontent.com/a/default-user=s128",
      "userId": "115671095488650849178"
     }
    }
   },
   "outputs": [
    {
     "name": "stdout",
     "output_type": "stream",
     "text": [
      "Cloning into './1'...\n",
      "remote: Counting objects: 42, done.\u001b[K\n",
      "remote: Compressing objects: 100% (32/32), done.\u001b[K\n",
      "remote: Total 42 (delta 7), reused 42 (delta 7), pack-reused 0\u001b[K\n",
      "Unpacking objects: 100% (42/42), done.\n",
      "1     datalab\t     initial.py  origin_data  spyder\t   train_GRU.py\n",
      "data  evaluation.py  network.py  out\t      test_GRU.py\n"
     ]
    }
   ],
   "source": [
    "!git clone https://github.com/AlwaysSomeone/test.git ./1\n",
    "!cp -r 1/* ./\n",
    "!ls"
   ]
  },
  {
   "cell_type": "code",
   "execution_count": 4,
   "metadata": {
    "id": "BnK73MtuDb_z",
    "colab_type": "code",
    "colab": {
     "autoexec": {
      "startup": false,
      "wait_interval": 0.0
     },
     "output_extras": [
      {
       "item_id": 22.0
      }
     ],
     "base_uri": "https://localhost:8080/",
     "height": 685.0
    },
    "outputId": "f265e053-467c-4979-c317-6bd02809007f",
    "executionInfo": {
     "status": "ok",
     "timestamp": 1.522214740464E12,
     "user_tz": -480.0,
     "elapsed": 239550.0,
     "user": {
      "displayName": "吴小翔",
      "photoUrl": "https://lh3.googleusercontent.com/a/default-user=s128",
      "userId": "115671095488650849178"
     }
    }
   },
   "outputs": [
    {
     "name": "stdout",
     "output_type": "stream",
     "text": [
      "/usr/local/lib/python3.6/dist-packages/h5py/__init__.py:36: FutureWarning: Conversion of the second argument of issubdtype from `float` to `np.floating` is deprecated. In future, it will be treated as `np.float64 == np.dtype(float).type`.\r\n",
      "  from ._conv import register_converters as _register_converters\n",
      "reading wordembedding\n",
      "reading training data\n",
      "2018-03-28 05:21:51.017632: I tensorflow/stream_executor/cuda/cuda_gpu_executor.cc:898] successful NUMA node read from SysFS had negative value (-1), but there must be at least one NUMA node, so returning NUMA node zero\n",
      "2018-03-28 05:21:51.018068: I tensorflow/core/common_runtime/gpu/gpu_device.cc:1212] Found device 0 with properties: \n",
      "name: Tesla K80 major: 3 minor: 7 memoryClockRate(GHz): 0.8235\n",
      "pciBusID: 0000:00:04.0\n",
      "totalMemory: 11.17GiB freeMemory: 11.10GiB\n",
      "2018-03-28 05:21:51.018106: I tensorflow/core/common_runtime/gpu/gpu_device.cc:1312] Adding visible gpu devices: 0\n",
      "2018-03-28 05:21:51.377172: I tensorflow/core/common_runtime/gpu/gpu_device.cc:993] Creating TensorFlow device (/job:localhost/replica:0/task:0/device:GPU:0 with 10765 MB memory) -> physical GPU (device: 0, name: Tesla K80, pci bus id: 0000:00:04.0, compute capability: 3.7)\n",
      "WARNING:tensorflow:From /content/network.py:132: softmax_cross_entropy_with_logits (from tensorflow.python.ops.nn_ops) is deprecated and will be removed in a future version.\n",
      "Instructions for updating:\n",
      "\n",
      "Future major versions of TensorFlow will allow gradients to flow\n",
      "into the labels input on backprop by default.\n",
      "\n",
      "See tf.nn.softmax_cross_entropy_with_logits_v2.\n",
      "\n",
      "2018-03-28T05:22:40.080669: step 50, softmax_loss 54.5279, acc 0.68\n",
      "2018-03-28T05:22:50.630309: step 100, softmax_loss 36.3251, acc 0.74\n",
      "2018-03-28T05:23:01.115624: step 150, softmax_loss 46.2981, acc 0.7\n",
      "2018-03-28T05:23:11.607697: step 200, softmax_loss 37.2883, acc 0.78\n",
      "2018-03-28T05:23:22.047813: step 250, softmax_loss 47.3591, acc 0.66\n",
      "2018-03-28T05:23:32.557826: step 300, softmax_loss 30.474, acc 0.84\n",
      "2018-03-28T05:23:43.103285: step 350, softmax_loss 48.0545, acc 0.7\n",
      "2018-03-28T05:23:53.709391: step 400, softmax_loss 46.4783, acc 0.72\n",
      "2018-03-28T05:24:04.234793: step 450, softmax_loss 33.4665, acc 0.7\n",
      "2018-03-28T05:24:14.732064: step 500, softmax_loss 33.0841, acc 0.74\n",
      "2018-03-28T05:24:25.385618: step 550, softmax_loss 31.4635, acc 0.74\n",
      "2018-03-28T05:24:35.846680: step 600, softmax_loss 41.1558, acc 0.66\n",
      "2018-03-28T05:24:46.416216: step 650, softmax_loss 27.819, acc 0.8\n",
      "2018-03-28T05:24:56.970819: step 700, softmax_loss 38.7623, acc 0.74\n",
      "2018-03-28T05:25:07.501736: step 750, softmax_loss 22.66, acc 0.88\n",
      "2018-03-28T05:25:18.064578: step 800, softmax_loss 31.3576, acc 0.78\n",
      "2018-03-28T05:25:28.602993: step 850, softmax_loss 25.5727, acc 0.78\n"
     ]
    }
   ],
   "source": [
    "!python train_GRU.py"
   ]
  },
  {
   "cell_type": "code",
   "execution_count": 5,
   "metadata": {
    "id": "4vOUVZEjMB67",
    "colab_type": "code",
    "colab": {
     "autoexec": {
      "startup": false,
      "wait_interval": 0.0
     },
     "output_extras": [
      {
       "item_id": 8.0
      }
     ],
     "base_uri": "https://localhost:8080/",
     "height": 107.0
    },
    "outputId": "c741a79b-76e0-421d-d186-4a78c1005b85",
    "executionInfo": {
     "status": "ok",
     "timestamp": 1.522216820329E12,
     "user_tz": -480.0,
     "elapsed": 12830.0,
     "user": {
      "displayName": "吴小翔",
      "photoUrl": "https://lh3.googleusercontent.com/a/default-user=s128",
      "userId": "115671095488650849178"
     }
    }
   },
   "outputs": [
    {
     "name": "stdout",
     "output_type": "stream",
     "text": [
      "Cloning into './2'...\n",
      "remote: Counting objects: 46, done.\u001b[K\n",
      "remote: Compressing objects: 100% (33/33), done.\u001b[K\n",
      "remote: Total 46 (delta 10), reused 46 (delta 10), pack-reused 0\u001b[K\n",
      "Unpacking objects: 100% (46/46), done.\n"
     ]
    }
   ],
   "source": [
    "!git clone https://github.com/AlwaysSomeone/test.git ./2\n",
    "!mv 2/train_GRU.py ./\n",
    "!mv 2/test_GRU.py ./"
   ]
  },
  {
   "cell_type": "code",
   "execution_count": 6,
   "metadata": {
    "id": "hpFUPGTgMWGp",
    "colab_type": "code",
    "colab": {
     "autoexec": {
      "startup": false,
      "wait_interval": 0.0
     },
     "output_extras": [
      {
       "item_id": 29.0
      }
     ],
     "base_uri": "https://localhost:8080/",
     "height": 937.0
    },
    "outputId": "0620aaed-6150-4e47-95ce-88674fbae8fa",
    "executionInfo": {
     "status": "ok",
     "timestamp": 1.522217083044E12,
     "user_tz": -480.0,
     "elapsed": 250051.0,
     "user": {
      "displayName": "吴小翔",
      "photoUrl": "https://lh3.googleusercontent.com/a/default-user=s128",
      "userId": "115671095488650849178"
     }
    }
   },
   "outputs": [
    {
     "name": "stdout",
     "output_type": "stream",
     "text": [
      "/usr/local/lib/python3.6/dist-packages/h5py/__init__.py:36: FutureWarning: Conversion of the second argument of issubdtype from `float` to `np.floating` is deprecated. In future, it will be treated as `np.float64 == np.dtype(float).type`.\r\n",
      "  from ._conv import register_converters as _register_converters\n",
      "reading wordembedding\n",
      "reading training data\n",
      "2018-03-28 06:00:36.282512: I tensorflow/stream_executor/cuda/cuda_gpu_executor.cc:898] successful NUMA node read from SysFS had negative value (-1), but there must be at least one NUMA node, so returning NUMA node zero\n",
      "2018-03-28 06:00:36.283000: I tensorflow/core/common_runtime/gpu/gpu_device.cc:1212] Found device 0 with properties: \n",
      "name: Tesla K80 major: 3 minor: 7 memoryClockRate(GHz): 0.8235\n",
      "pciBusID: 0000:00:04.0\n",
      "totalMemory: 11.17GiB freeMemory: 11.10GiB\n",
      "2018-03-28 06:00:36.283103: I tensorflow/core/common_runtime/gpu/gpu_device.cc:1312] Adding visible gpu devices: 0\n",
      "2018-03-28 06:00:36.669239: I tensorflow/core/common_runtime/gpu/gpu_device.cc:993] Creating TensorFlow device (/job:localhost/replica:0/task:0/device:GPU:0 with 10765 MB memory) -> physical GPU (device: 0, name: Tesla K80, pci bus id: 0000:00:04.0, compute capability: 3.7)\n",
      "WARNING:tensorflow:From /content/network.py:132: softmax_cross_entropy_with_logits (from tensorflow.python.ops.nn_ops) is deprecated and will be removed in a future version.\n",
      "Instructions for updating:\n",
      "\n",
      "Future major versions of TensorFlow will allow gradients to flow\n",
      "into the labels input on backprop by default.\n",
      "\n",
      "See tf.nn.softmax_cross_entropy_with_logits_v2.\n",
      "\n",
      "2018-03-28T06:01:25.543360: step 50, softmax_loss 58.9557, acc 0.68\n",
      "2018-03-28T06:01:36.273105: step 100, softmax_loss 49.9426, acc 0.6\n",
      "2018-03-28T06:01:46.943980: step 150, softmax_loss 41.5113, acc 0.72\n",
      "2018-03-28T06:01:57.543342: step 200, softmax_loss 42.0279, acc 0.62\n",
      "2018-03-28T06:02:08.212591: step 250, softmax_loss 55.0525, acc 0.66\n",
      "2018-03-28T06:02:18.910614: step 300, softmax_loss 39.1583, acc 0.78\n",
      "2018-03-28T06:02:29.497431: step 350, softmax_loss 46.3269, acc 0.68\n",
      "2018-03-28T06:02:40.036323: step 400, softmax_loss 37.4515, acc 0.82\n",
      "2018-03-28T06:02:50.643243: step 450, softmax_loss 25.0156, acc 0.84\n",
      "2018-03-28T06:03:01.277604: step 500, softmax_loss 24.4716, acc 0.86\n",
      "2018-03-28T06:03:11.943996: step 550, softmax_loss 32.5699, acc 0.78\n",
      "saving model\n",
      "have saved model to ./model/ATT_GRU_model-550\n",
      "2018-03-28T06:03:25.250356: step 600, softmax_loss 30.8767, acc 0.72\n",
      "saving model\n",
      "have saved model to ./model/ATT_GRU_model-600\n",
      "2018-03-28T06:03:37.938368: step 650, softmax_loss 31.0332, acc 0.76\n",
      "saving model\n",
      "have saved model to ./model/ATT_GRU_model-650\n",
      "2018-03-28T06:03:50.561168: step 700, softmax_loss 38.5431, acc 0.72\n",
      "saving model\n",
      "have saved model to ./model/ATT_GRU_model-700\n",
      "2018-03-28T06:04:03.352570: step 750, softmax_loss 27.9313, acc 0.78\n",
      "saving model\n",
      "have saved model to ./model/ATT_GRU_model-750\n",
      "2018-03-28T06:04:16.069611: step 800, softmax_loss 40.4647, acc 0.66\n",
      "saving model\n",
      "have saved model to ./model/ATT_GRU_model-800\n",
      "2018-03-28T06:04:28.841193: step 850, softmax_loss 26.054, acc 0.86\n",
      "saving model\n",
      "have saved model to ./model/ATT_GRU_model-850\n"
     ]
    }
   ],
   "source": [
    "!python train_GRU.py"
   ]
  },
  {
   "cell_type": "code",
   "execution_count": 8,
   "metadata": {
    "id": "gvgFU0RdR3sx",
    "colab_type": "code",
    "colab": {
     "autoexec": {
      "startup": false,
      "wait_interval": 0.0
     },
     "output_extras": [
      {
       "item_id": 1.0
      }
     ],
     "base_uri": "https://localhost:8080/",
     "height": 71.0
    },
    "outputId": "2a1d56c5-71c9-4e7e-8ed4-117df8ed7acf",
    "executionInfo": {
     "status": "ok",
     "timestamp": 1.52222024466E12,
     "user_tz": -480.0,
     "elapsed": 2224.0,
     "user": {
      "displayName": "吴小翔",
      "photoUrl": "https://lh3.googleusercontent.com/a/default-user=s128",
      "userId": "115671095488650849178"
     }
    }
   },
   "outputs": [
    {
     "name": "stdout",
     "output_type": "stream",
     "text": [
      "1     datalab\t     model\t  out\t       test_GRU.py\r\n",
      "2     evaluation.py  network.py   __pycache__  train_GRU.py\r\n",
      "data  initial.py     origin_data  spyder       train_loss\r\n"
     ]
    }
   ],
   "source": [
    "!ls"
   ]
  },
  {
   "cell_type": "code",
   "execution_count": 9,
   "metadata": {
    "id": "-KKYIo-GZdRz",
    "colab_type": "code",
    "colab": {
     "autoexec": {
      "startup": false,
      "wait_interval": 0.0
     },
     "output_extras": [
      {
       "item_id": 9.0
      }
     ],
     "base_uri": "https://localhost:8080/",
     "height": 107.0
    },
    "outputId": "01bfd286-9020-4b9e-eeac-67a7596c8d7e",
    "executionInfo": {
     "status": "ok",
     "timestamp": 1.52222029998E12,
     "user_tz": -480.0,
     "elapsed": 14699.0,
     "user": {
      "displayName": "吴小翔",
      "photoUrl": "https://lh3.googleusercontent.com/a/default-user=s128",
      "userId": "115671095488650849178"
     }
    }
   },
   "outputs": [
    {
     "name": "stdout",
     "output_type": "stream",
     "text": [
      "Cloning into './test'...\n",
      "remote: Counting objects: 50, done.\u001b[K\n",
      "remote: Compressing objects: 100% (36/36), done.\u001b[K\n",
      "remote: Total 50 (delta 13), reused 48 (delta 11), pack-reused 0\u001b[K\n",
      "Unpacking objects: 100% (50/50), done.\n"
     ]
    }
   ],
   "source": [
    "!git clone https://github.com/AlwaysSomeone/test.git ./test"
   ]
  },
  {
   "cell_type": "code",
   "execution_count": 0,
   "metadata": {
    "id": "u9TgCWnnZoF5",
    "colab_type": "code",
    "colab": {
     "autoexec": {
      "startup": false,
      "wait_interval": 0.0
     }
    }
   },
   "outputs": [],
   "source": [
    "!mv test/network.py ./\n",
    "!mv test/train_GRU.py ./\n",
    "!mv test/test_GRU.py ./"
   ]
  },
  {
   "cell_type": "code",
   "execution_count": 11,
   "metadata": {
    "id": "mQduCokeZ45h",
    "colab_type": "code",
    "colab": {
     "autoexec": {
      "startup": false,
      "wait_interval": 0.0
     },
     "output_extras": [
      {
       "item_id": 39.0
      },
      {
       "item_id": 48.0
      }
     ],
     "base_uri": "https://localhost:8080/",
     "height": 1261.0
    },
    "outputId": "56b106ff-f54a-4da8-9e8d-fbf12c11dac7",
    "executionInfo": {
     "status": "ok",
     "timestamp": 1.52222078683E12,
     "user_tz": -480.0,
     "elapsed": 403759.0,
     "user": {
      "displayName": "吴小翔",
      "photoUrl": "https://lh3.googleusercontent.com/a/default-user=s128",
      "userId": "115671095488650849178"
     }
    }
   },
   "outputs": [
    {
     "name": "stdout",
     "output_type": "stream",
     "text": [
      "/usr/local/lib/python3.6/dist-packages/h5py/__init__.py:36: FutureWarning: Conversion of the second argument of issubdtype from `float` to `np.floating` is deprecated. In future, it will be treated as `np.float64 == np.dtype(float).type`.\r\n",
      "  from ._conv import register_converters as _register_converters\n",
      "reading wordembedding\n",
      "reading training data\n",
      "2018-03-28 06:59:46.402558: I tensorflow/stream_executor/cuda/cuda_gpu_executor.cc:898] successful NUMA node read from SysFS had negative value (-1), but there must be at least one NUMA node, so returning NUMA node zero\n",
      "2018-03-28 06:59:46.402955: I tensorflow/core/common_runtime/gpu/gpu_device.cc:1212] Found device 0 with properties: \n",
      "name: Tesla K80 major: 3 minor: 7 memoryClockRate(GHz): 0.8235\n",
      "pciBusID: 0000:00:04.0\n",
      "totalMemory: 11.17GiB freeMemory: 11.10GiB\n",
      "2018-03-28 06:59:46.402990: I tensorflow/core/common_runtime/gpu/gpu_device.cc:1312] Adding visible gpu devices: 0\n",
      "2018-03-28 06:59:46.742290: I tensorflow/core/common_runtime/gpu/gpu_device.cc:993] Creating TensorFlow device (/job:localhost/replica:0/task:0/device:GPU:0 with 10765 MB memory) -> physical GPU (device: 0, name: Tesla K80, pci bus id: 0000:00:04.0, compute capability: 3.7)\n",
      "WARNING:tensorflow:From /content/network.py:132: softmax_cross_entropy_with_logits (from tensorflow.python.ops.nn_ops) is deprecated and will be removed in a future version.\n",
      "Instructions for updating:\n",
      "\n",
      "Future major versions of TensorFlow will allow gradients to flow\n",
      "into the labels input on backprop by default.\n",
      "\n",
      "See tf.nn.softmax_cross_entropy_with_logits_v2.\n",
      "\n",
      "2018-03-28T07:00:32.317684: step 50, softmax_loss 72.3873, acc 0.58\n",
      "2018-03-28T07:00:41.924052: step 100, softmax_loss 35.3346, acc 0.82\n",
      "2018-03-28T07:00:51.541810: step 150, softmax_loss 49.7515, acc 0.64\n",
      "2018-03-28T07:01:01.457690: step 200, softmax_loss 25.0762, acc 0.88\n",
      "2018-03-28T07:01:11.299677: step 250, softmax_loss 50.5784, acc 0.58\n",
      "2018-03-28T07:01:20.866907: step 300, softmax_loss 48.511, acc 0.56\n",
      "2018-03-28T07:01:30.543365: step 350, softmax_loss 43.9426, acc 0.6\n",
      "2018-03-28T07:01:40.249449: step 400, softmax_loss 40.7688, acc 0.68\n",
      "2018-03-28T07:01:49.958774: step 450, softmax_loss 32.5092, acc 0.76\n",
      "2018-03-28T07:01:59.638812: step 500, softmax_loss 40.4731, acc 0.68\n",
      "2018-03-28T07:02:09.479146: step 550, softmax_loss 27.4229, acc 0.78\n",
      "2018-03-28T07:02:19.219304: step 600, softmax_loss 27.1903, acc 0.76\n",
      "2018-03-28T07:02:28.851097: step 650, softmax_loss 15.5133, acc 0.9\n",
      "2018-03-28T07:02:38.484408: step 700, softmax_loss 19.2661, acc 0.86\n",
      "2018-03-28T07:02:48.103678: step 750, softmax_loss 21.4426, acc 0.86\n",
      "2018-03-28T07:02:57.869362: step 800, softmax_loss 23.0978, acc 0.82\n",
      "2018-03-28T07:03:07.664004: step 850, softmax_loss 16.2504, acc 0.86\n",
      "2018-03-28T07:03:17.387849: step 900, softmax_loss 26.8842, acc 0.8\n",
      "2018-03-28T07:03:27.057055: step 950, softmax_loss 28.6413, acc 0.84\n",
      "2018-03-28T07:03:36.741582: step 1000, softmax_loss 21.6999, acc 0.78\n",
      "2018-03-28T07:03:46.533802: step 1050, softmax_loss 22.8133, acc 0.86\n",
      "2018-03-28T07:03:56.291750: step 1100, softmax_loss 11.7785, acc 0.86\n",
      "saving model\n",
      "have saved model to ./model/ATT_GRU_model-1100\n",
      "2018-03-28T07:04:08.617106: step 1150, softmax_loss 20.0919, acc 0.9\n",
      "2018-03-28T07:04:18.387516: step 1200, softmax_loss 16.6628, acc 0.84\n",
      "saving model\n",
      "have saved model to ./model/ATT_GRU_model-1200\n",
      "2018-03-28T07:04:30.153385: step 1250, softmax_loss 16.7363, acc 0.86\n",
      "2018-03-28T07:04:39.798172: step 1300, softmax_loss 11.4961, acc 0.88\n",
      "saving model\n",
      "have saved model to ./model/ATT_GRU_model-1300\n",
      "2018-03-28T07:04:51.547998: step 1350, softmax_loss 10.2941, acc 0.94\n",
      "2018-03-28T07:05:01.253240: step 1400, softmax_loss 8.05369, acc 0.96\n",
      "saving model\n",
      "have saved model to ./model/ATT_GRU_model-1400\n",
      "2018-03-28T07:05:13.127126: step 1450, softmax_loss 11.5419, acc 0.94\n",
      "2018-03-28T07:05:22.653971: step 1500, softmax_loss 17.976, acc 0.86\n"
     ]
    },
    {
     "name": "stdout",
     "output_type": "stream",
     "text": [
      "saving model\n",
      "have saved model to ./model/ATT_GRU_model-1500\n",
      "2018-03-28T07:05:34.393702: step 1550, softmax_loss 12.723, acc 0.92\n",
      "2018-03-28T07:05:44.081120: step 1600, softmax_loss 18.8943, acc 0.84\n",
      "saving model\n",
      "have saved model to ./model/ATT_GRU_model-1600\n",
      "2018-03-28T07:05:55.792740: step 1650, softmax_loss 6.50933, acc 0.98\n",
      "2018-03-28T07:06:05.682960: step 1700, softmax_loss 5.88588, acc 0.98\n",
      "saving model\n",
      "have saved model to ./model/ATT_GRU_model-1700\n",
      "2018-03-28T07:06:17.566140: step 1750, softmax_loss 19.5083, acc 0.84\n"
     ]
    }
   ],
   "source": [
    "!python train_GRU.py"
   ]
  },
  {
   "cell_type": "code",
   "execution_count": 12,
   "metadata": {
    "id": "qV0hAsm2bhFs",
    "colab_type": "code",
    "colab": {
     "autoexec": {
      "startup": false,
      "wait_interval": 0.0
     },
     "output_extras": [
      {
       "item_id": 9.0
      }
     ],
     "base_uri": "https://localhost:8080/",
     "height": 559.0
    },
    "outputId": "160c491d-1a3d-41a2-daf3-264b061c55e6",
    "executionInfo": {
     "status": "ok",
     "timestamp": 1.522221055984E12,
     "user_tz": -480.0,
     "elapsed": 244685.0,
     "user": {
      "displayName": "吴小翔",
      "photoUrl": "https://lh3.googleusercontent.com/a/default-user=s128",
      "userId": "115671095488650849178"
     }
    }
   },
   "outputs": [
    {
     "name": "stdout",
     "output_type": "stream",
     "text": [
      "/usr/local/lib/python3.6/dist-packages/h5py/__init__.py:36: FutureWarning: Conversion of the second argument of issubdtype from `float` to `np.floating` is deprecated. In future, it will be treated as `np.float64 == np.dtype(float).type`.\r\n",
      "  from ._conv import register_converters as _register_converters\n",
      "2018-03-28 07:06:53.878914: I tensorflow/stream_executor/cuda/cuda_gpu_executor.cc:898] successful NUMA node read from SysFS had negative value (-1), but there must be at least one NUMA node, so returning NUMA node zero\n",
      "2018-03-28 07:06:53.879369: I tensorflow/core/common_runtime/gpu/gpu_device.cc:1212] Found device 0 with properties: \n",
      "name: Tesla K80 major: 3 minor: 7 memoryClockRate(GHz): 0.8235\n",
      "pciBusID: 0000:00:04.0\n",
      "totalMemory: 11.17GiB freeMemory: 11.10GiB\n",
      "2018-03-28 07:06:53.879405: I tensorflow/core/common_runtime/gpu/gpu_device.cc:1312] Adding visible gpu devices: 0\n",
      "2018-03-28 07:06:54.214737: I tensorflow/core/common_runtime/gpu/gpu_device.cc:993] Creating TensorFlow device (/job:localhost/replica:0/task:0/device:GPU:0 with 10765 MB memory) -> physical GPU (device: 0, name: Tesla K80, pci bus id: 0000:00:04.0, compute capability: 3.7)\n",
      "WARNING:tensorflow:From /content/network.py:132: softmax_cross_entropy_with_logits (from tensorflow.python.ops.nn_ops) is deprecated and will be removed in a future version.\n",
      "Instructions for updating:\n",
      "\n",
      "Future major versions of TensorFlow will allow gradients to flow\n",
      "into the labels input on backprop by default.\n",
      "\n",
      "See tf.nn.softmax_cross_entropy_with_logits_v2.\n",
      "\n",
      "2018-03-28T07:06:57.602488\n",
      "Evaluating all test data and save data for PR curve\n",
      "saving all test result...\n",
      "PR curve area:0.8557334958792403\n",
      "2018-03-28T07:08:16.276491\n",
      "Evaluating all test data and save data for PR curve\n",
      "saving all test result...\n",
      "PR curve area:0.8665421437304931\n",
      "2018-03-28T07:09:34.685218\n",
      "Evaluating all test data and save data for PR curve\n",
      "saving all test result...\n",
      "PR curve area:0.8920682763201193\n"
     ]
    }
   ],
   "source": [
    "!python evaluation.py"
   ]
  },
  {
   "cell_type": "code",
   "execution_count": 13,
   "metadata": {
    "id": "GEJLokWsdKGx",
    "colab_type": "code",
    "colab": {
     "autoexec": {
      "startup": false,
      "wait_interval": 0.0
     },
     "output_extras": [
      {
       "item_id": 7.0
      }
     ],
     "base_uri": "https://localhost:8080/",
     "height": 107.0
    },
    "outputId": "92049403-9bae-4d13-c1c4-70aea477d6a3",
    "executionInfo": {
     "status": "ok",
     "timestamp": 1.522221276222E12,
     "user_tz": -480.0,
     "elapsed": 5759.0,
     "user": {
      "displayName": "吴小翔",
      "photoUrl": "https://lh3.googleusercontent.com/a/default-user=s128",
      "userId": "115671095488650849178"
     }
    }
   },
   "outputs": [
    {
     "name": "stdout",
     "output_type": "stream",
     "text": [
      "Cloning into './new'...\n",
      "remote: Counting objects: 53, done.\u001b[K\n",
      "remote: Compressing objects: 100% (40/40), done.\u001b[K\n",
      "remote: Total 53 (delta 16), reused 47 (delta 10), pack-reused 0\u001b[K\n",
      "Unpacking objects: 100% (53/53), done.\n"
     ]
    }
   ],
   "source": [
    "!git clone https://github.com/AlwaysSomeone/test.git ./new"
   ]
  },
  {
   "cell_type": "code",
   "execution_count": 0,
   "metadata": {
    "id": "DB_130jqdWJ3",
    "colab_type": "code",
    "colab": {
     "autoexec": {
      "startup": false,
      "wait_interval": 0.0
     }
    }
   },
   "outputs": [],
   "source": [
    "!mv new/test_GRU.py ./"
   ]
  },
  {
   "cell_type": "code",
   "execution_count": 15,
   "metadata": {
    "id": "KBqNBn5sdb7e",
    "colab_type": "code",
    "colab": {
     "autoexec": {
      "startup": false,
      "wait_interval": 0.0
     },
     "output_extras": [
      {
       "item_id": 9.0
      }
     ],
     "base_uri": "https://localhost:8080/",
     "height": 667.0
    },
    "outputId": "164864fd-97d7-4e9f-e296-3967e58382d6",
    "executionInfo": {
     "status": "ok",
     "timestamp": 1.522221554663E12,
     "user_tz": -480.0,
     "elapsed": 239234.0,
     "user": {
      "displayName": "吴小翔",
      "photoUrl": "https://lh3.googleusercontent.com/a/default-user=s128",
      "userId": "115671095488650849178"
     }
    }
   },
   "outputs": [
    {
     "name": "stdout",
     "output_type": "stream",
     "text": [
      "/usr/local/lib/python3.6/dist-packages/h5py/__init__.py:36: FutureWarning: Conversion of the second argument of issubdtype from `float` to `np.floating` is deprecated. In future, it will be treated as `np.float64 == np.dtype(float).type`.\r\n",
      "  from ._conv import register_converters as _register_converters\n",
      "2018-03-28 07:15:17.970621: I tensorflow/stream_executor/cuda/cuda_gpu_executor.cc:898] successful NUMA node read from SysFS had negative value (-1), but there must be at least one NUMA node, so returning NUMA node zero\n",
      "2018-03-28 07:15:17.971115: I tensorflow/core/common_runtime/gpu/gpu_device.cc:1212] Found device 0 with properties: \n",
      "name: Tesla K80 major: 3 minor: 7 memoryClockRate(GHz): 0.8235\n",
      "pciBusID: 0000:00:04.0\n",
      "totalMemory: 11.17GiB freeMemory: 11.10GiB\n",
      "2018-03-28 07:15:17.971202: I tensorflow/core/common_runtime/gpu/gpu_device.cc:1312] Adding visible gpu devices: 0\n",
      "2018-03-28 07:15:18.326159: I tensorflow/core/common_runtime/gpu/gpu_device.cc:993] Creating TensorFlow device (/job:localhost/replica:0/task:0/device:GPU:0 with 10765 MB memory) -> physical GPU (device: 0, name: Tesla K80, pci bus id: 0000:00:04.0, compute capability: 3.7)\n",
      "WARNING:tensorflow:From /content/network.py:132: softmax_cross_entropy_with_logits (from tensorflow.python.ops.nn_ops) is deprecated and will be removed in a future version.\n",
      "Instructions for updating:\n",
      "\n",
      "Future major versions of TensorFlow will allow gradients to flow\n",
      "into the labels input on backprop by default.\n",
      "\n",
      "See tf.nn.softmax_cross_entropy_with_logits_v2.\n",
      "\n",
      "2018-03-28T07:15:21.690729\n",
      "Evaluating all test data and save data for PR curve\n",
      "1100次训练结果\n",
      "准确率0.8780940594059405\n",
      "saving all test result...\n",
      "PR curve area:0.8557334958792403\n",
      "2018-03-28T07:16:38.798888\n",
      "Evaluating all test data and save data for PR curve\n",
      "1200次训练结果\n",
      "准确率0.8818069306930693\n",
      "saving all test result...\n",
      "PR curve area:0.8665421437304931\n",
      "2018-03-28T07:17:55.087106\n",
      "Evaluating all test data and save data for PR curve\n",
      "1300次训练结果\n",
      "准确率0.8935643564356436\n",
      "saving all test result...\n",
      "PR curve area:0.8920682763201193\n"
     ]
    }
   ],
   "source": [
    "!python evaluation.py"
   ]
  }
 ],
 "metadata": {
  "colab": {
   "name": "Untitled2.ipynb",
   "version": "0.3.2",
   "views": {},
   "default_view": {},
   "provenance": []
  },
  "kernelspec": {
   "name": "python3",
   "display_name": "Python 3"
  },
  "accelerator": "GPU"
 },
 "nbformat": 4,
 "nbformat_minor": 0
}
